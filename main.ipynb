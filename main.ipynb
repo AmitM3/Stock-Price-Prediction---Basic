{
 "cells": [
  {
   "cell_type": "markdown",
   "metadata": {},
   "source": [
    "## Imports and setup"
   ]
  },
  {
   "cell_type": "code",
   "execution_count": null,
   "metadata": {},
   "outputs": [],
   "source": [
    "\n",
    "import requests as req\n",
    "import urllib3\n",
    "import pandas as pd\n",
    "from sklearn.linear_model import LinearRegression\n",
    "import numpy as np\n",
    "import matplotlib.pyplot as plt\n",
    "\n",
    "\n",
    "# disable warnings for unverified HTTPS requests\n",
    "urllib3.disable_warnings(urllib3.exceptions.InsecureRequestWarning)\n",
    "\n",
    "# Set Matplotlib defaults\n",
    "plt.style.use(\"ggplot\")\n",
    "plt.rc(\"figure\", autolayout=True, figsize=(11, 4))\n",
    "plt.rc(\n",
    "    \"axes\",\n",
    "    labelweight=\"bold\",\n",
    "    labelsize=\"large\",\n",
    "    titleweight=\"bold\",\n",
    "    titlesize=14,\n",
    "    titlepad=10,\n",
    ")\n",
    "plot_params = dict(\n",
    "    color=\"0.75\",\n",
    "    style=\".-\",\n",
    "    markeredgecolor=\"0.25\",\n",
    "    markerfacecolor=\"0.25\",\n",
    "    legend=False,\n",
    ")\n",
    "\n",
    "%config InlineBackend.figure_format = 'retina'"
   ]
  },
  {
   "cell_type": "markdown",
   "metadata": {},
   "source": [
    "## Data Prep"
   ]
  },
  {
   "cell_type": "code",
   "execution_count": null,
   "metadata": {},
   "outputs": [],
   "source": [
    "# Pick a stock\n",
    "ticker = input(\"Enter ticker: \")\n",
    "\n",
    "# Get the data\n",
    "\n",
    "url = f\"https://www.alphavantage.co/query?function=TIME_SERIES_DAILY&symbol={ticker}&apikey=6C3GUKE8Z5C6Z2B5\"\n",
    "r = req.get(url, verify=False)\n",
    "data = r.json()"
   ]
  },
  {
   "cell_type": "code",
   "execution_count": null,
   "metadata": {},
   "outputs": [],
   "source": [
    "# Convert the data to a DataFrame\n",
    "df = pd.DataFrame.from_dict(data['Time Series (Daily)'], orient='index').reset_index()\n",
    "df.rename(columns = {'1. open': 'Open', '2. high': 'High', '3. low': 'Low', '4. close':'Close','5. volume': 'Volume','index':'Date'}, inplace = True)\n",
    "df"
   ]
  },
  {
   "cell_type": "code",
   "execution_count": null,
   "metadata": {},
   "outputs": [],
   "source": [
    "# check the data for any missing values\n",
    "df.isnull().sum()"
   ]
  },
  {
   "cell_type": "code",
   "execution_count": null,
   "metadata": {},
   "outputs": [],
   "source": [
    "# Check data types of all columns\n",
    "data_types = df.dtypes\n",
    "\n",
    "# Print data types\n",
    "print(data_types)"
   ]
  },
  {
   "cell_type": "code",
   "execution_count": null,
   "metadata": {},
   "outputs": [],
   "source": [
    "# Convert date type\n",
    "df['Date'] = pd.to_datetime(df['Date'])\n",
    "\n",
    "# convert other\n",
    "# columns to numeric\n",
    "df['Open'] = pd.to_numeric(df['Open'])\n",
    "df['High'] = pd.to_numeric(df['High'])\n",
    "df['Low'] = pd.to_numeric(df['Low'])\n",
    "df['Close'] = pd.to_numeric(df['Close'])\n",
    "df['Volume'] = pd.to_numeric(df['Volume'])"
   ]
  },
  {
   "cell_type": "code",
   "execution_count": null,
   "metadata": {},
   "outputs": [],
   "source": [
    "# Create a visualisation of the data\n",
    "plt.plot(df['Date'], df['Close'])\n",
    "plt.show()\n"
   ]
  },
  {
   "cell_type": "code",
   "execution_count": null,
   "metadata": {},
   "outputs": [],
   "source": [
    "# Add a column for the time\n",
    "df = df.sort_values(by='Date').reset_index(drop=True)\n",
    "df2 = df.copy()\n",
    "df2['Time'] = np.arange(len(df.index))\n",
    "df2.head()"
   ]
  },
  {
   "cell_type": "markdown",
   "metadata": {},
   "source": [
    "## Model training"
   ]
  },
  {
   "cell_type": "code",
   "execution_count": null,
   "metadata": {},
   "outputs": [],
   "source": [
    "# Training data\n",
    "X = df2.loc[:, ['Time']]  # features\n",
    "y = df2.loc[:, 'Close']  # target\n",
    "\n",
    "# Train the model\n",
    "model = LinearRegression()\n",
    "model.fit(X, y)\n",
    "\n",
    "# Store the fitted values as a time series with the same time index as\n",
    "# the training data\n",
    "y_pred = pd.Series(model.predict(X), index=X.index)"
   ]
  },
  {
   "cell_type": "code",
   "execution_count": null,
   "metadata": {},
   "outputs": [],
   "source": [
    "# Visualize the model preidctions\n",
    "x = df['Date']\n",
    "plt.scatter(x, y,color='g')\n",
    "plt.plot(x, y_pred,color='k')\n",
    "\n",
    "plt.show()"
   ]
  }
 ],
 "metadata": {
  "kernelspec": {
   "display_name": "Python 3",
   "language": "python",
   "name": "python3"
  },
  "language_info": {
   "codemirror_mode": {
    "name": "ipython",
    "version": 3
   },
   "file_extension": ".py",
   "mimetype": "text/x-python",
   "name": "python",
   "nbconvert_exporter": "python",
   "pygments_lexer": "ipython3",
   "version": "3.12.2"
  }
 },
 "nbformat": 4,
 "nbformat_minor": 2
}
